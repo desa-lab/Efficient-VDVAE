{
 "cells": [
  {
   "cell_type": "code",
   "execution_count": 1,
   "metadata": {},
   "outputs": [
    {
     "name": "stdout",
     "output_type": "stream",
     "text": [
      "Found existing ./logs-imagnet_64_baseline/hparams-imagnet_64_baseline.cfg! Resuming run using primary parameters!\n"
     ]
    }
   ],
   "source": [
    "from hparams import HParams\n",
    "hparams = HParams('.', name=\"efficient_vdvae\")"
   ]
  },
  {
   "cell_type": "code",
   "execution_count": 2,
   "metadata": {},
   "outputs": [
    {
     "name": "stderr",
     "output_type": "stream",
     "text": [
      "2024-06-22 01:19:16.686007: I tensorflow/core/platform/cpu_feature_guard.cc:210] This TensorFlow binary is optimized to use available CPU instructions in performance-critical operations.\n",
      "To enable the following instructions: AVX2 FMA, in other operations, rebuild TensorFlow with the appropriate compiler flags.\n",
      "2024-06-22 01:19:17.861168: W tensorflow/compiler/tf2tensorrt/utils/py_utils.cc:38] TF-TRT Warning: Could not find TensorRT\n"
     ]
    },
    {
     "data": {
      "text/plain": [
       "<torch.autograd.profiler.emit_nvtx at 0x7fe4c82387c0>"
      ]
     },
     "execution_count": 2,
     "metadata": {},
     "output_type": "execute_result"
    }
   ],
   "source": [
    "import pickle\n",
    "import numpy as np\n",
    "import os\n",
    "import torch\n",
    "from numpy.random import seed\n",
    "import random\n",
    "from PIL import Image\n",
    "from tqdm import tqdm\n",
    "\n",
    "from utils.utils import assert_CUDA_and_hparams_gpus_are_equal, create_checkpoint_manager_and_load_if_exists, \\\n",
    "        get_logdir, get_variate_masks, transpose_dicts\n",
    "from data.generic_data_loader import synth_generic_data, encode_generic_data, stats_generic_data\n",
    "from data.cifar10_data_loader import synth_cifar_data, encode_cifar_data, stats_cifar_data\n",
    "from data.imagenet_data_loader import synth_imagenet_data, encode_imagenet_data, stats_imagenet_data\n",
    "from data.imagenet_data_loader import make_toy_filenames, train_transform, valid_transform\n",
    "from data.mnist_data_loader import synth_mnist_data, encode_mnist_data, stats_mnist_data\n",
    "from model.def_model import UniversalAutoEncoder\n",
    "from model.model import reconstruction_step, generation_step, encode_step\n",
    "from model.losses import StructureSimilarityIndexMap\n",
    "from utils import temperature_functions\n",
    "from model.div_stats_utils import KLDivergenceStats\n",
    "\n",
    "from sklearn.utils import shuffle\n",
    "import matplotlib.pyplot as plt\n",
    "\n",
    "# Fix random seeds\n",
    "torch.manual_seed(hparams.run.seed)\n",
    "torch.manual_seed(hparams.run.seed)\n",
    "torch.cuda.manual_seed(hparams.run.seed)\n",
    "torch.cuda.manual_seed_all(hparams.run.seed)  # if you are using multi-GPU.\n",
    "seed(hparams.run.seed)  # Numpy module.\n",
    "random.seed(hparams.run.seed)  # Python random module.\n",
    "torch.manual_seed(hparams.run.seed)\n",
    "torch.backends.cudnn.benchmark = True\n",
    "torch.backends.cudnn.deterministic = False\n",
    "# The flag below controls whether to allow TF32 on matmul. This flag defaults to True.\n",
    "torch.backends.cuda.matmul.allow_tf32 = True\n",
    "# The flag below controls whether to allow TF32 on cuDNN. This flag defaults to True.\n",
    "torch.backends.cudnn.allow_tf32 = True\n",
    "\n",
    "torch.autograd.set_detect_anomaly(False)\n",
    "torch.autograd.profiler.profile(False)\n",
    "torch.autograd.profiler.emit_nvtx(False)"
   ]
  },
  {
   "cell_type": "code",
   "execution_count": 3,
   "metadata": {},
   "outputs": [],
   "source": [
    "embeddings = pickle.load(open('logs-imagnet_64_baseline/latents/encodings_temp_first100.pkl', 'rb'))"
   ]
  },
  {
   "cell_type": "code",
   "execution_count": 4,
   "metadata": {},
   "outputs": [
    {
     "data": {
      "text/plain": [
       "2610"
      ]
     },
     "execution_count": 4,
     "metadata": {},
     "output_type": "execute_result"
    }
   ],
   "source": [
    "embedding_size = 0\n",
    "for i in embeddings['latent_codes']['image_0']:\n",
    "    embedding_size += embeddings['latent_codes']['image_0'][i].size\n",
    "    if i == 30:\n",
    "        break\n",
    "embedding_size"
   ]
  },
  {
   "cell_type": "code",
   "execution_count": 5,
   "metadata": {},
   "outputs": [],
   "source": [
    "device = torch.device('cuda:0')\n",
    "hparams.synthesis.batch_size = 1 # 128"
   ]
  },
  {
   "cell_type": "code",
   "execution_count": 6,
   "metadata": {},
   "outputs": [
    {
     "name": "stdout",
     "output_type": "stream",
     "text": [
      "EMA model is loaded\n",
      "./checkpoints-imagnet_64_baseline\n"
     ]
    }
   ],
   "source": [
    "model = UniversalAutoEncoder()\n",
    "model = model.to(device)\n",
    "with torch.no_grad():\n",
    "    ones = torch.ones((1, hparams.data.channels, hparams.data.target_res, hparams.data.target_res)).cuda(0)\n",
    "    _ = model(ones)\n",
    "checkpoint, checkpoint_path = create_checkpoint_manager_and_load_if_exists(rank=0)\n",
    "if hparams.synthesis.load_ema_weights:\n",
    "    assert checkpoint['ema_model_state_dict'] is not None\n",
    "    model.load_state_dict(checkpoint['ema_model_state_dict'])\n",
    "    print('EMA model is loaded')\n",
    "else:\n",
    "    assert checkpoint['model_state_dict'] is not None\n",
    "    model.load_state_dict(checkpoint['model_state_dict'])\n",
    "    print('Model Checkpoint is loaded')\n",
    "print(checkpoint_path)"
   ]
  },
  {
   "cell_type": "code",
   "execution_count": 7,
   "metadata": {},
   "outputs": [],
   "source": [
    "def read_imagenet_images(path):\n",
    "    files = [os.path.join(path, f) for f in sorted(os.listdir(path))]\n",
    "    data = np.concatenate([np.load(f)['data'] for f in files], axis=0) # [samples, C * H * W]\n",
    "    data = data.reshape(\n",
    "        [data.shape[0], hparams.data.channels, hparams.data.target_res, hparams.data.target_res])  # [samples, C, H, W]\n",
    "\n",
    "    data = data.transpose([0, 2, 3, 1])  # [samples, H, W, C]\n",
    "    assert data.shape[1] == data.shape[2] == hparams.data.target_res\n",
    "    assert data.shape[3] == hparams.data.channels\n",
    "\n",
    "    data = shuffle(data)\n",
    "    print('Number of Images:', len(data))\n",
    "    print('Path: ', path)\n",
    "    return data\n",
    "\n",
    "class imagenet_dataset(torch.utils.data.Dataset):\n",
    "    def __init__(self, images, mode):\n",
    "        self.filenames = make_toy_filenames(images)\n",
    "        self.mode = mode\n",
    "        self.images = shuffle(images)\n",
    "\n",
    "    def __getitem__(self, idx):\n",
    "        if self.mode in 'train':\n",
    "            img = self.images[idx]\n",
    "            img = train_transform(img)\n",
    "            return img\n",
    "\n",
    "        elif self.mode in ['val', 'test', 'div_stats']:\n",
    "            img = self.images[idx]\n",
    "            img = valid_transform(img)\n",
    "            return img\n",
    "\n",
    "        elif self.mode == 'encode':\n",
    "            img = self.images[idx]\n",
    "            filename = self.filenames[idx]\n",
    "            img = valid_transform(img)\n",
    "            return img, filename\n",
    "\n",
    "        else:\n",
    "            raise ValueError(f'Unknown Mode {self.mode}')\n",
    "\n",
    "    def __len__(self):\n",
    "        if self.mode in ['train', 'test', 'encode']:\n",
    "            return len(self.images)\n",
    "        elif self.mode == 'val':\n",
    "            return hparams.val.n_samples_for_validation\n",
    "        elif self.mode == 'div_stats':\n",
    "            return round(len(self.images) * hparams.synthesis.div_stats_subset_ratio)"
   ]
  },
  {
   "cell_type": "code",
   "execution_count": 8,
   "metadata": {},
   "outputs": [
    {
     "data": {
      "text/plain": [
       "((84, 32), (84, 32))"
      ]
     },
     "execution_count": 8,
     "metadata": {},
     "output_type": "execute_result"
    }
   ],
   "source": [
    "def get_variate_masks(stats):\n",
    "    thresh = np.quantile(stats, 1 - 0.03)\n",
    "    return stats > thresh\n",
    "div_stats = np.load('logs-imagnet_64_baseline/latents/div_stats.npy')\n",
    "variate_masks = get_variate_masks(div_stats)\n",
    "div_stats.shape, variate_masks.shape"
   ]
  },
  {
   "cell_type": "code",
   "execution_count": 9,
   "metadata": {},
   "outputs": [
    {
     "name": "stdout",
     "output_type": "stream",
     "text": [
      "Number of Images: 50000\n",
      "Path:  ../datasets/imagenet_64/val_data/\n"
     ]
    }
   ],
   "source": [
    "synth_images = read_imagenet_images(hparams.data.synthesis_data_path)\n",
    "synth_images = imagenet_dataset(synth_images, mode='test')\n",
    "synth_loader = torch.utils.data.DataLoader(\n",
    "    dataset=synth_images,\n",
    "    batch_size=hparams.synthesis.batch_size,\n",
    "    shuffle=False,\n",
    "    pin_memory=True,\n",
    "    num_workers=hparams.run.num_cpus,\n",
    "    drop_last=True)"
   ]
  },
  {
   "cell_type": "code",
   "execution_count": 10,
   "metadata": {},
   "outputs": [],
   "source": [
    "# for step, inputs in enumerate(synth_loader):\n",
    "#     inputs = inputs.to(device)\n",
    "#     if step == 0:\n",
    "#         break"
   ]
  },
  {
   "cell_type": "code",
   "execution_count": 11,
   "metadata": {},
   "outputs": [
    {
     "data": {
      "text/plain": [
       "torch.Size([1, 3, 64, 64])"
      ]
     },
     "execution_count": 11,
     "metadata": {},
     "output_type": "execute_result"
    }
   ],
   "source": [
    "# # Assuming synth_loader is already defined and you've iterated through it\n",
    "# # To reset and start from the first data point again\n",
    "# iterator = iter(synth_loader)\n",
    "# inputs = next(iterator)\n",
    "inputs = next(iter(synth_loader)).to(device)\n",
    "inputs.shape"
   ]
  },
  {
   "cell_type": "code",
   "execution_count": 12,
   "metadata": {},
   "outputs": [
    {
     "data": {
      "image/png": "[encoded data removed]",
      "text/plain": [
       "<Figure size 100x100 with 1 Axes>"
      ]
     },
     "metadata": {},
     "output_type": "display_data"
    }
   ],
   "source": [
    "model.eval()\n",
    "with torch.no_grad():\n",
    "    predictions, posterior_dist_list, prior_kl_dist_list = model(inputs, variate_masks)\n",
    "outputs = model.top_down.sample(predictions)\n",
    "# Plot the sample_from_latent variable\n",
    "image = outputs[0].detach().cpu().numpy()\n",
    "image = np.round(image * 127.5 + 127.5)\n",
    "image = image.astype(np.uint8)\n",
    "image = np.transpose(image, (1, 2, 0))\n",
    "plt.figure(figsize=(1, 1))\n",
    "plt.imshow(image)\n",
    "plt.axis('off')\n",
    "plt.show()"
   ]
  },
  {
   "cell_type": "code",
   "execution_count": 13,
   "metadata": {},
   "outputs": [
    {
     "data": {
      "text/plain": [
       "(84, 68)"
      ]
     },
     "execution_count": 13,
     "metadata": {},
     "output_type": "execute_result"
    }
   ],
   "source": [
    "len(posterior_dist_list), len(embeddings['latent_codes']['image_0'])"
   ]
  },
  {
   "cell_type": "code",
   "execution_count": 14,
   "metadata": {},
   "outputs": [],
   "source": [
    "# for i in range(len(embeddings['latent_codes']['image_0'])):\n",
    "#     print(embeddings['latent_codes']['image_0'][i].shape)\n",
    "# embeddings['latent_codes']['image_0']"
   ]
  },
  {
   "cell_type": "code",
   "execution_count": 15,
   "metadata": {},
   "outputs": [
    {
     "data": {
      "image/png": "[encoded data removed]",
      "text/plain": [
       "<Figure size 100x100 with 1 Axes>"
      ]
     },
     "metadata": {},
     "output_type": "display_data"
    }
   ],
   "source": [
    "image = embeddings['images']['image_0']\n",
    "image = np.round(image * 127.5 + 127.5)\n",
    "image = image.astype(np.uint8)\n",
    "image = np.transpose(image, (1, 2, 0))\n",
    "plt.figure(figsize=(1, 1))\n",
    "plt.imshow(image)\n",
    "plt.axis('off')\n",
    "plt.show()"
   ]
  },
  {
   "cell_type": "code",
   "execution_count": 16,
   "metadata": {},
   "outputs": [
    {
     "data": {
      "text/plain": [
       "(84, 31, 53)"
      ]
     },
     "execution_count": 16,
     "metadata": {},
     "output_type": "execute_result"
    }
   ],
   "source": [
    "len(variate_masks), sum(hparams.model.down_n_blocks_per_res), len(hparams.model.down_strides)"
   ]
  },
  {
   "cell_type": "code",
   "execution_count": 17,
   "metadata": {},
   "outputs": [],
   "source": [
    "skip_list = model.bottom_up(inputs)"
   ]
  },
  {
   "cell_type": "code",
   "execution_count": 18,
   "metadata": {},
   "outputs": [
    {
     "data": {
      "text/plain": [
       "(53, 20540416, 2097152)"
      ]
     },
     "execution_count": 18,
     "metadata": {},
     "output_type": "execute_result"
    }
   ],
   "source": [
    "len(skip_list), sum([x.detach().cpu().numpy().size for x in skip_list]), skip_list[50].detach().cpu().numpy().size"
   ]
  },
  {
   "cell_type": "code",
   "execution_count": 19,
   "metadata": {},
   "outputs": [
    {
     "data": {
      "image/png": "[encoded data removed]",
      "text/plain": [
       "<Figure size 100x100 with 1 Axes>"
      ]
     },
     "metadata": {},
     "output_type": "display_data"
    },
    {
     "data": {
      "text/plain": [
       "torch.Size([1, 100, 64, 64])"
      ]
     },
     "execution_count": 19,
     "metadata": {},
     "output_type": "execute_result"
    }
   ],
   "source": [
    "outputs_y, posterior_dist_list, prior_kl_dist_list = model.top_down(skip_list, variate_masks=variate_masks)\n",
    "outputs = model.top_down.sample(outputs_y)\n",
    "# Plot the sample_from_latent variable\n",
    "image = outputs[0].detach().cpu().numpy()\n",
    "image = np.round(image * 127.5 + 127.5)\n",
    "image = image.astype(np.uint8)\n",
    "image = np.transpose(image, (1, 2, 0))\n",
    "plt.figure(figsize=(1, 1))\n",
    "plt.imshow(image)\n",
    "plt.axis('off')\n",
    "plt.show()\n",
    "outputs_y.shape"
   ]
  },
  {
   "cell_type": "code",
   "execution_count": 56,
   "metadata": {},
   "outputs": [],
   "source": [
    "def reshape_distribution(dist_list, variate_mask):\n",
    "    \"\"\"\n",
    "    :param dist_list: n_layers, 2*  [ batch_size n_variates, H , W]\n",
    "    :return: Tensors  of shape batch_size, H, W ,n_variates, 2\n",
    "    H, W , n_variates will be different from each other in the list depending on which layer you are in.\n",
    "    \"\"\"\n",
    "    dist = torch.stack(dist_list, dim=0)  # 2, batch_size, n_variates, H ,W\n",
    "    dist = dist[:, :, variate_mask, :, :]  # Only take effective variates\n",
    "    dist = torch.permute(dist, (1, 3, 4, 2, 0))  # batch_size, H ,W ,n_variates (subset), 2\n",
    "    # dist = torch.unbind(dist, dim=0)  # Return a list of tensors of length batch_size\n",
    "    return dist"
   ]
  },
  {
   "cell_type": "code",
   "execution_count": 57,
   "metadata": {},
   "outputs": [],
   "source": [
    "@torch.jit.script\n",
    "def calculate_z(mean, std):\n",
    "    eps = torch.empty_like(mean, device=torch.device('cuda')).normal_(0., 1.)\n",
    "    z = eps * std + mean\n",
    "    return z, mean, std"
   ]
  },
  {
   "cell_type": "code",
   "execution_count": 58,
   "metadata": {},
   "outputs": [],
   "source": [
    "skip_list = model.bottom_up(torch.ones((1, 3, 64, 64)).cuda(0))"
   ]
  },
  {
   "cell_type": "code",
   "execution_count": 112,
   "metadata": {},
   "outputs": [
    {
     "data": {
      "text/plain": [
       "((84, 32), (84, 32))"
      ]
     },
     "execution_count": 112,
     "metadata": {},
     "output_type": "execute_result"
    }
   ],
   "source": [
    "def get_variate_masks(stats):\n",
    "    thresh = np.quantile(stats, 1 - 0.03)\n",
    "    return stats > thresh\n",
    "div_stats = np.load('logs-imagnet_64_baseline/latents/div_stats.npy')\n",
    "variate_masks = get_variate_masks(div_stats)\n",
    "div_stats.shape, variate_masks.shape"
   ]
  },
  {
   "cell_type": "code",
   "execution_count": 123,
   "metadata": {},
   "outputs": [
    {
     "data": {
      "text/plain": [
       "2738"
      ]
     },
     "execution_count": 123,
     "metadata": {},
     "output_type": "execute_result"
    }
   ],
   "source": [
    "embeddings = pickle.load(open('logs-imagnet_64_baseline/latents/encodings_temp_first100_003.pkl', 'rb'))\n",
    "embedding = embeddings['latent_codes']['image_0']\n",
    "embedding_size = 0\n",
    "for i in embedding.keys():\n",
    "    embedding_size += embedding[i].size\n",
    "    if i > 30:\n",
    "        break\n",
    "embedding_size"
   ]
  },
  {
   "cell_type": "code",
   "execution_count": 124,
   "metadata": {},
   "outputs": [
    {
     "data": {
      "text/plain": [
       "(torch.Size([1, 512, 1, 1]), torch.Size([1, 512, 1, 1]))"
      ]
     },
     "execution_count": 124,
     "metadata": {},
     "output_type": "execute_result"
    }
   ],
   "source": [
    "y = torch.tile(model.top_down.trainable_h, (skip_list[0].size()[0], 1, 1, 1))\n",
    "y.shape, model.top_down.trainable_h.shape"
   ]
  },
  {
   "cell_type": "code",
   "execution_count": 125,
   "metadata": {},
   "outputs": [
    {
     "name": "stdout",
     "output_type": "stream",
     "text": [
      "Key Error: 13\n",
      "Key Error: 21\n",
      "Key Error: 23\n",
      "Key Error: 28\n",
      "Key Error: 29\n",
      "Key Error: 32\n",
      "Key Error: 33\n",
      "Key Error: 34\n",
      "Key Error: 35\n",
      "Key Error: 54\n",
      "Key Error: 55\n",
      "Key Error: 57\n",
      "Key Error: 73\n",
      "Key Error: 75\n",
      "Key Error: 78\n",
      "Key Error: 83\n"
     ]
    }
   ],
   "source": [
    "torch.manual_seed(hparams.run.seed)\n",
    "torch.cuda.manual_seed(hparams.run.seed)\n",
    "layer_idx = 0\n",
    "posterior_dist_list = []\n",
    "for i, (level_down_upsample, level_down, skip_input) in enumerate(\n",
    "        zip(model.top_down.levels_down_upsample, model.top_down.levels_down, skip_list)):\n",
    "    # print('Layer:', i, 'Layer Index:', layer_idx)\n",
    "    try:\n",
    "        posterior_dist_i = torch.Tensor(embedding[layer_idx]).cuda(0)\n",
    "        mean, std = torch.chunk(torch.permute(posterior_dist_i, (3, 2, 0, 1)), chunks=2, dim=0)\n",
    "        # z, mean, std = calculate_z(mean, std)\n",
    "        z = mean\n",
    "        if i > 30:\n",
    "            z = torch.zeros_like(mean).cuda(0)\n",
    "    except KeyError:\n",
    "        print('Key Error:', layer_idx)\n",
    "        z = None\n",
    "    y, posterior_dist, prior_kl_dist, = level_down_upsample(skip_input, y, variate_mask=variate_masks[layer_idx], z=z)\n",
    "    # y, posterior_dist, prior_kl_dist, = level_down_upsample(skip_input, y, variate_mask=variate_masks[layer_idx])\n",
    "    layer_idx += 1\n",
    "    resolution_posterior_dist = [posterior_dist]\n",
    "    resolution_prior_kl_dist = [prior_kl_dist]\n",
    "\n",
    "    for j, layer in enumerate(level_down):\n",
    "        # print('layer:', i, 'layer Index:', layer_idx)\n",
    "        try:\n",
    "            posterior_dist_i = torch.Tensor(embedding[layer_idx]).cuda(0)\n",
    "            mean, std = torch.chunk(torch.permute(posterior_dist_i, (3, 2, 0, 1)), chunks=2, dim=0)\n",
    "            # z, mean, std = calculate_z(mean, std)\n",
    "            z = mean\n",
    "            if i > 30:\n",
    "                z = torch.zeros_like(mean).cuda(0)\n",
    "        except KeyError:\n",
    "            print('Key Error:', layer_idx)\n",
    "            z = None\n",
    "        y, posterior_dist, prior_kl_dist = layer(skip_input, y, variate_mask=variate_masks[layer_idx], z=z)\n",
    "        # y, posterior_dist, prior_kl_dist = layer(skip_input, y, variate_mask=variate_masks[layer_idx])\n",
    "        layer_idx += 1\n",
    "\n",
    "        resolution_posterior_dist.append(posterior_dist)\n",
    "        resolution_prior_kl_dist.append(prior_kl_dist)\n",
    "\n",
    "    posterior_dist_list += resolution_posterior_dist\n",
    "    prior_kl_dist_list += resolution_prior_kl_dist\n",
    "    # if i == 48:\n",
    "    #     break\n",
    "predictions = model.top_down.output_conv(y)"
   ]
  },
  {
   "cell_type": "code",
   "execution_count": 126,
   "metadata": {},
   "outputs": [
    {
     "data": {
      "image/png": "[encoded data removed]",
      "text/plain": [
       "<Figure size 100x100 with 1 Axes>"
      ]
     },
     "metadata": {},
     "output_type": "display_data"
    }
   ],
   "source": [
    "# model.eval()\n",
    "# with torch.no_grad():\n",
    "#     predictions, posterior_dist_list, prior_kl_dist_list = model(inputs, variate_masks)\n",
    "outputs = model.top_down.sample(predictions)\n",
    "# Plot the sample_from_latent variable\n",
    "image = outputs[0].detach().cpu().numpy()\n",
    "image = np.round(image * 127.5 + 127.5)\n",
    "image = image.astype(np.uint8)\n",
    "image = np.transpose(image, (1, 2, 0))\n",
    "plt.figure(figsize=(1, 1))\n",
    "plt.imshow(image)\n",
    "plt.axis('off')\n",
    "plt.show()"
   ]
  },
  {
   "cell_type": "code",
   "execution_count": 120,
   "metadata": {},
   "outputs": [
    {
     "data": {
      "text/plain": [
       "tensor([[[[[2.8285, 0.2858],\n",
       "           [6.6891, 0.2627]]]]], device='cuda:0', grad_fn=<PermuteBackward0>)"
      ]
     },
     "execution_count": 120,
     "metadata": {},
     "output_type": "execute_result"
    }
   ],
   "source": [
    "# reshape_distribution(posterior_dist, variate_masks[layer_idx])\n",
    "# reshape_distribution(posterior_dist, variate_masks[1])\n",
    "# reshape_distribution(posterior_dist_list[1], variate_masks[1])\n",
    "reshape_distribution(posterior_dist_list[0], variate_masks[0])"
   ]
  },
  {
   "cell_type": "code",
   "execution_count": 121,
   "metadata": {},
   "outputs": [
    {
     "data": {
      "text/plain": [
       "array([[[[2.8292532 , 0.28566203],\n",
       "         [6.687244  , 0.26273352]]]], dtype=float32)"
      ]
     },
     "execution_count": 121,
     "metadata": {},
     "output_type": "execute_result"
    }
   ],
   "source": [
    "# embeddings['latent_codes']['image_0'][1]\n",
    "embeddings['latent_codes']['image_0'][0]"
   ]
  },
  {
   "cell_type": "code",
   "execution_count": 57,
   "metadata": {},
   "outputs": [
    {
     "data": {
      "text/plain": [
       "torch.Size([1, 32, 1, 1])"
      ]
     },
     "execution_count": 57,
     "metadata": {},
     "output_type": "execute_result"
    }
   ],
   "source": [
    "posterior_dist_list[1][0].shape"
   ]
  },
  {
   "cell_type": "code",
   "execution_count": 44,
   "metadata": {},
   "outputs": [
    {
     "data": {
      "text/plain": [
       "torch.Size([1, 512, 1, 1])"
      ]
     },
     "execution_count": 44,
     "metadata": {},
     "output_type": "execute_result"
    }
   ],
   "source": [
    "y.shape"
   ]
  },
  {
   "cell_type": "code",
   "execution_count": 21,
   "metadata": {},
   "outputs": [
    {
     "data": {
      "text/plain": [
       "torch.Size([1, 100, 64, 64])"
      ]
     },
     "execution_count": 21,
     "metadata": {},
     "output_type": "execute_result"
    }
   ],
   "source": [
    "y = model.top_down.output_conv(y)\n",
    "y.shape"
   ]
  },
  {
   "cell_type": "code",
   "execution_count": 23,
   "metadata": {},
   "outputs": [],
   "source": [
    "# for i in range(50):\n",
    "#     print(model.top_down.levels_down_upsample[i].strides)"
   ]
  },
  {
   "cell_type": "code",
   "execution_count": 170,
   "metadata": {},
   "outputs": [
    {
     "data": {
      "text/plain": [
       "(torch.Size([1, 512, 1, 1]), torch.Size([1, 512, 1, 1]))"
      ]
     },
     "execution_count": 170,
     "metadata": {},
     "output_type": "execute_result"
    }
   ],
   "source": [
    "y = torch.tile(model.top_down.trainable_h, (skip_list[0].size()[0], 1, 1, 1))\n",
    "y.shape, model.top_down.trainable_h.shape"
   ]
  },
  {
   "cell_type": "code",
   "execution_count": 171,
   "metadata": {},
   "outputs": [],
   "source": [
    "torch.manual_seed(hparams.run.seed)\n",
    "torch.cuda.manual_seed(hparams.run.seed)\n",
    "level_down_upsample = model.top_down.levels_down_upsample[0]\n",
    "skip_input = skip_list[0]\n",
    "variate_mask = variate_masks[0]\n",
    "if level_down_upsample.strides > 1:\n",
    "    y = level_down_upsample.unpool(y)"
   ]
  },
  {
   "cell_type": "code",
   "execution_count": 172,
   "metadata": {},
   "outputs": [
    {
     "data": {
      "text/plain": [
       "torch.Size([1, 1024, 1, 1])"
      ]
     },
     "execution_count": 172,
     "metadata": {},
     "output_type": "execute_result"
    }
   ],
   "source": [
    "y_prior_kl = level_down_upsample.prior_net(y)\n",
    "y_prior_kl.shape"
   ]
  },
  {
   "cell_type": "code",
   "execution_count": 173,
   "metadata": {},
   "outputs": [
    {
     "data": {
      "text/plain": [
       "(torch.Size([1, 512, 1, 1]), torch.Size([1, 512, 1, 1]))"
      ]
     },
     "execution_count": 173,
     "metadata": {},
     "output_type": "execute_result"
    }
   ],
   "source": [
    "kl_residual, y_prior_kl = torch.chunk(y_prior_kl, chunks=2, dim=1)  # B, C, H, W\n",
    "kl_residual.shape, y_prior_kl.shape"
   ]
  },
  {
   "cell_type": "code",
   "execution_count": 174,
   "metadata": {},
   "outputs": [
    {
     "name": "stdout",
     "output_type": "stream",
     "text": [
      "torch.Size([1, 1024, 1, 1])\n",
      "torch.Size([1, 512, 1, 1])\n"
     ]
    }
   ],
   "source": [
    "y_post = torch.cat([y, skip_input], dim=1)\n",
    "print(y_post.shape)\n",
    "y_post = level_down_upsample.posterior_net(y_post)\n",
    "print(y_post.shape)"
   ]
  },
  {
   "cell_type": "code",
   "execution_count": 175,
   "metadata": {},
   "outputs": [
    {
     "data": {
      "text/plain": [
       "(torch.Size([1, 32, 1, 1]),\n",
       " 2,\n",
       " torch.Size([1, 32, 1, 1]),\n",
       " torch.Size([1, 32, 1, 1]))"
      ]
     },
     "execution_count": 175,
     "metadata": {},
     "output_type": "execute_result"
    }
   ],
   "source": [
    "z_prior_kl, prior_kl_dist = level_down_upsample.sampler(level_down_upsample.prior_layer, y_prior_kl)\n",
    "z_prior_kl.shape, len(prior_kl_dist), prior_kl_dist[0].shape, prior_kl_dist[1].shape"
   ]
  },
  {
   "cell_type": "code",
   "execution_count": 176,
   "metadata": {},
   "outputs": [
    {
     "data": {
      "text/plain": [
       "False"
      ]
     },
     "execution_count": 176,
     "metadata": {},
     "output_type": "execute_result"
    }
   ],
   "source": [
    "hparams.model.use_residual_distribution"
   ]
  },
  {
   "cell_type": "code",
   "execution_count": 181,
   "metadata": {},
   "outputs": [
    {
     "data": {
      "text/plain": [
       "torch.Size([1, 1, 2, 2])"
      ]
     },
     "execution_count": 181,
     "metadata": {},
     "output_type": "execute_result"
    }
   ],
   "source": [
    "torch.Tensor(embeddings['latent_codes']['image_0'][0]).shape"
   ]
  },
  {
   "cell_type": "code",
   "execution_count": null,
   "metadata": {},
   "outputs": [],
   "source": [
    "dist = torch.stack(dist_list, dim=0)  # 2, batch_size, n_variates, H ,W\n",
    "dist = dist[:, :, variate_mask, :, :]  # Only take effective variates\n",
    "dist = torch.permute(dist, (1, 3, 4, 2, 0))  # batch_size, H ,W ,n_variates (subset), 2"
   ]
  },
  {
   "cell_type": "code",
   "execution_count": 204,
   "metadata": {},
   "outputs": [
    {
     "data": {
      "text/plain": [
       "torch.Size([1, 1, 2, 2])"
      ]
     },
     "execution_count": 204,
     "metadata": {},
     "output_type": "execute_result"
    }
   ],
   "source": [
    "torch.Tensor(embeddings['latent_codes']['image_0'][0]).cuda().shape"
   ]
  },
  {
   "cell_type": "code",
   "execution_count": 208,
   "metadata": {},
   "outputs": [
    {
     "data": {
      "text/plain": [
       "torch.Size([2, 2, 1, 1])"
      ]
     },
     "execution_count": 208,
     "metadata": {},
     "output_type": "execute_result"
    }
   ],
   "source": [
    "torch.permute(torch.Tensor(embeddings['latent_codes']['image_0'][0]).cuda(), (3, 2, 0, 1)).shape"
   ]
  },
  {
   "cell_type": "code",
   "execution_count": 210,
   "metadata": {},
   "outputs": [
    {
     "data": {
      "text/plain": [
       "(tensor([[[[2.8293]],\n",
       " \n",
       "          [[6.6872]]]], device='cuda:0'),\n",
       " tensor([[[[0.2857]],\n",
       " \n",
       "          [[0.2627]]]], device='cuda:0'))"
      ]
     },
     "execution_count": 210,
     "metadata": {},
     "output_type": "execute_result"
    }
   ],
   "source": [
    "# mean, std = torch.chunk(torch.Tensor(embeddings['latent_codes']['image_0'][0]).cuda(), chunks=2, dim=3)\n",
    "mean, std = torch.chunk(torch.permute(torch.Tensor(embeddings['latent_codes']['image_0'][0]).cuda(), (3, 2, 0, 1)), chunks=2, dim=0)\n",
    "mean, std"
   ]
  },
  {
   "cell_type": "code",
   "execution_count": 211,
   "metadata": {},
   "outputs": [
    {
     "data": {
      "text/plain": [
       "tensor([[[[2.3552]],\n",
       "\n",
       "         [[7.1938]]]], device='cuda:0')"
      ]
     },
     "execution_count": 211,
     "metadata": {},
     "output_type": "execute_result"
    }
   ],
   "source": [
    "@torch.jit.script\n",
    "def calculate_z(mean, std):\n",
    "    eps = torch.empty_like(mean, device=torch.device('cuda')).normal_(0., 1.)\n",
    "    z = eps * std + mean\n",
    "    return z, mean, std\n",
    "torch.manual_seed(hparams.run.seed)\n",
    "torch.cuda.manual_seed(hparams.run.seed)\n",
    "z, mean, std = calculate_z(mean, std)\n",
    "z"
   ]
  },
  {
   "cell_type": "code",
   "execution_count": 212,
   "metadata": {},
   "outputs": [],
   "source": [
    "variate_mask2 = torch.Tensor(variate_mask)[None, :, None, None].cuda()"
   ]
  },
  {
   "cell_type": "code",
   "execution_count": 213,
   "metadata": {},
   "outputs": [],
   "source": [
    "z_post = (1. - variate_mask2) * z_prior_kl"
   ]
  },
  {
   "cell_type": "code",
   "execution_count": 214,
   "metadata": {},
   "outputs": [
    {
     "data": {
      "text/plain": [
       "(torch.Size([1, 32, 1, 1]), torch.Size([1, 2, 1, 1]))"
      ]
     },
     "execution_count": 214,
     "metadata": {},
     "output_type": "execute_result"
    }
   ],
   "source": [
    "z_post.shape, z.shape"
   ]
  },
  {
   "cell_type": "code",
   "execution_count": 215,
   "metadata": {},
   "outputs": [],
   "source": [
    "z_post[:, variate_mask, :, :] = z"
   ]
  },
  {
   "cell_type": "code",
   "execution_count": 144,
   "metadata": {},
   "outputs": [],
   "source": [
    "# Samples posterior under expected value of q(z<i|x)\n",
    "z_post, posterior_dist = level_down_upsample.sampler(\n",
    "    level_down_upsample.posterior_layer,\n",
    "    y_post,\n",
    "    prior_stats=prior_kl_dist if hparams.model.use_residual_distribution else None)"
   ]
  },
  {
   "cell_type": "code",
   "execution_count": 145,
   "metadata": {},
   "outputs": [
    {
     "data": {
      "text/plain": [
       "(torch.Size([1, 32, 1, 1]),\n",
       " 2,\n",
       " torch.Size([1, 32, 1, 1]),\n",
       " torch.Size([1, 32, 1, 1]))"
      ]
     },
     "execution_count": 145,
     "metadata": {},
     "output_type": "execute_result"
    }
   ],
   "source": [
    "z_post.shape, len(posterior_dist), posterior_dist[0].shape, posterior_dist[1].shape"
   ]
  },
  {
   "cell_type": "code",
   "execution_count": 146,
   "metadata": {},
   "outputs": [
    {
     "data": {
      "text/plain": [
       "(tensor([[[[[2.8285, 0.2858],\n",
       "            [6.6891, 0.2627]]]]], device='cuda:0', grad_fn=<PermuteBackward0>),\n",
       " torch.Size([1, 1, 1, 2, 2]))"
      ]
     },
     "execution_count": 146,
     "metadata": {},
     "output_type": "execute_result"
    }
   ],
   "source": [
    "reshape_distribution(posterior_dist, variate_mask), reshape_distribution(posterior_dist, variate_mask).shape"
   ]
  },
  {
   "cell_type": "code",
   "execution_count": 153,
   "metadata": {},
   "outputs": [
    {
     "data": {
      "text/plain": [
       "(tensor([[[[[2.8605],\n",
       "            [6.6652]]]]], device='cuda:0', grad_fn=<PermuteBackward0>),\n",
       " torch.Size([1, 1, 1, 2, 1]))"
      ]
     },
     "execution_count": 153,
     "metadata": {},
     "output_type": "execute_result"
    }
   ],
   "source": [
    "reshape_distribution([z_post], variate_mask), reshape_distribution([z_post], variate_mask).shape"
   ]
  },
  {
   "cell_type": "code",
   "execution_count": 166,
   "metadata": {},
   "outputs": [
    {
     "data": {
      "text/plain": [
       "torch.Size([1, 1, 2, 1, 1])"
      ]
     },
     "execution_count": 166,
     "metadata": {},
     "output_type": "execute_result"
    }
   ],
   "source": [
    "torch.stack([z_post], dim=0)[:, :, variate_mask, :, :].shape"
   ]
  },
  {
   "cell_type": "code",
   "execution_count": 158,
   "metadata": {},
   "outputs": [
    {
     "data": {
      "text/plain": [
       "array([False, False, False, False, False, False,  True, False, False,\n",
       "       False, False, False,  True, False, False, False, False, False,\n",
       "       False, False, False, False, False, False, False, False, False,\n",
       "       False, False, False, False, False])"
      ]
     },
     "execution_count": 158,
     "metadata": {},
     "output_type": "execute_result"
    }
   ],
   "source": [
    "variate_mask"
   ]
  },
  {
   "cell_type": "code",
   "execution_count": 148,
   "metadata": {},
   "outputs": [
    {
     "data": {
      "text/plain": [
       "array([[[[2.8292532 , 0.28566203],\n",
       "         [6.687244  , 0.26273352]]]], dtype=float32)"
      ]
     },
     "execution_count": 148,
     "metadata": {},
     "output_type": "execute_result"
    }
   ],
   "source": [
    "embeddings['latent_codes']['image_0'][0]"
   ]
  },
  {
   "cell_type": "code",
   "execution_count": 149,
   "metadata": {},
   "outputs": [],
   "source": [
    "variate_mask2 = torch.Tensor(variate_mask)[None, :, None, None].cuda()"
   ]
  },
  {
   "cell_type": "code",
   "execution_count": 150,
   "metadata": {},
   "outputs": [
    {
     "data": {
      "text/plain": [
       "((32,), torch.Size([1, 32, 1, 1]))"
      ]
     },
     "execution_count": 150,
     "metadata": {},
     "output_type": "execute_result"
    }
   ],
   "source": [
    "variate_mask.shape, variate_mask2.shape"
   ]
  },
  {
   "cell_type": "code",
   "execution_count": 152,
   "metadata": {},
   "outputs": [
    {
     "data": {
      "text/plain": [
       "torch.Size([1, 32, 1, 1])"
      ]
     },
     "execution_count": 152,
     "metadata": {},
     "output_type": "execute_result"
    }
   ],
   "source": [
    "(variate_mask2 * z_post).shape"
   ]
  },
  {
   "cell_type": "code",
   "execution_count": 34,
   "metadata": {},
   "outputs": [
    {
     "data": {
      "text/plain": [
       "torch.Size([1, 32, 1, 1])"
      ]
     },
     "execution_count": 34,
     "metadata": {},
     "output_type": "execute_result"
    }
   ],
   "source": [
    "z_post = variate_mask2 * z_post + (1. - variate_mask2) * z_prior_kl\n",
    "z_post.shape"
   ]
  },
  {
   "cell_type": "code",
   "execution_count": 169,
   "metadata": {},
   "outputs": [
    {
     "data": {
      "text/plain": [
       "torch.Size([1, 2, 1, 1])"
      ]
     },
     "execution_count": 169,
     "metadata": {},
     "output_type": "execute_result"
    }
   ],
   "source": [
    "z_post = z_priaior_kl\n",
    "z_post[:, varte_mask, :, :].shape"
   ]
  },
  {
   "cell_type": "code",
   "execution_count": 35,
   "metadata": {},
   "outputs": [],
   "source": [
    "# Residual with prior\n",
    "y = y + kl_residual\n",
    "\n",
    "# Project z and merge back into main stream\n",
    "z_post = level_down_upsample.z_projection(z_post)\n",
    "y = y + z_post\n",
    "\n",
    "# Residual block\n",
    "y = level_down_upsample.residual_block(y)"
   ]
  },
  {
   "cell_type": "code",
   "execution_count": 36,
   "metadata": {},
   "outputs": [
    {
     "data": {
      "text/plain": [
       "torch.Size([1, 512, 1, 1])"
      ]
     },
     "execution_count": 36,
     "metadata": {},
     "output_type": "execute_result"
    }
   ],
   "source": [
    "y.shape"
   ]
  },
  {
   "cell_type": "code",
   "execution_count": null,
   "metadata": {},
   "outputs": [],
   "source": []
  }
 ],
 "metadata": {
  "kernelspec": {
   "display_name": "pyenv",
   "language": "python",
   "name": "python3"
  },
  "language_info": {
   "codemirror_mode": {
    "name": "ipython",
    "version": 3
   },
   "file_extension": ".py",
   "mimetype": "text/x-python",
   "name": "python",
   "nbconvert_exporter": "python",
   "pygments_lexer": "ipython3",
   "version": "3.10.12"
  }
 },
 "nbformat": 4,
 "nbformat_minor": 2
}
